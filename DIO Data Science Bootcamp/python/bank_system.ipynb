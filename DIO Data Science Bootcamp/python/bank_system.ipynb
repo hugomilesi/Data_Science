{
 "cells": [
  {
   "cell_type": "code",
   "execution_count": 13,
   "metadata": {},
   "outputs": [
    {
     "name": "stdout",
     "output_type": "stream",
     "text": [
      "Account Number: 12345\n",
      "----- Transactions -----\n",
      "No transactions found.\n",
      "Balance: R$2000.00\n"
     ]
    }
   ],
   "source": [
    "class BankAccount:\n",
    "    def __init__(self, account_number, initial_balance=0):\n",
    "        self.account_number = account_number\n",
    "        self.balance = initial_balance\n",
    "        self.transactions = []\n",
    "\n",
    "    def deposit(self, amount):\n",
    "        if amount > 0:\n",
    "            self.balance += amount\n",
    "            self.transactions.append(f\"Deposit: +R${amount:.2f}\")\n",
    "            print(f\"Deposited R${amount:.2f} into Account {self.account_number}\")\n",
    "        else:\n",
    "            print(\"Invalid amount. Please enter a positive value.\")\n",
    "\n",
    "    def withdraw(self, amount):\n",
    "        if amount > 0:\n",
    "            if amount <= 500 and len(self.transactions) < 3:\n",
    "                if self.balance >= amount:\n",
    "                    self.balance -= amount\n",
    "                    self.transactions.append(f\"Withdrawal: -R${amount:.2f}\")\n",
    "                    print(f\"Withdrew R${amount:.2f} from Account {self.account_number}\")\n",
    "                else:\n",
    "                    print(\"Insufficient funds.\")\n",
    "            else:\n",
    "                print(\"Withdrawal limit exceeded or maximum amount exceeded. Your maximum withdraw ammount is R$500,00\")\n",
    "        else:\n",
    "            print(\"Invalid amount. Please enter a positive value.\")\n",
    "\n",
    "    def visualize_extract(self):\n",
    "        print(f\"Account Number: {self.account_number}\")\n",
    "        print(\"----- Transactions -----\")\n",
    "        if self.transactions:\n",
    "            for transaction in self.transactions:\n",
    "                print(transaction)\n",
    "        else:\n",
    "            print(\"No transactions found.\")\n",
    "        print(f\"Balance: R${self.balance:.2f}\")\n",
    "\n",
    "\n",
    "# Example usage\n",
    "account1 = BankAccount(\"12345\", 2000)\n",
    "account1.visualize_extract()"
   ]
  },
  {
   "cell_type": "markdown",
   "metadata": {},
   "source": [
    "## Trying to withdraw R$5000"
   ]
  },
  {
   "cell_type": "code",
   "execution_count": 14,
   "metadata": {},
   "outputs": [
    {
     "name": "stdout",
     "output_type": "stream",
     "text": [
      "Withdrawal limit exceeded or maximum amount exceeded. Your maximum withdraw ammount is R$500,00\n"
     ]
    }
   ],
   "source": [
    "account1.withdraw(5000)"
   ]
  },
  {
   "cell_type": "markdown",
   "metadata": {},
   "source": [
    "## Try withdrawing more than 3 times."
   ]
  },
  {
   "cell_type": "code",
   "execution_count": 12,
   "metadata": {},
   "outputs": [
    {
     "name": "stdout",
     "output_type": "stream",
     "text": [
      "Withdrawal limit exceeded or maximum amount exceeded.\n",
      "Withdrawal limit exceeded or maximum amount exceeded.\n",
      "Withdrawal limit exceeded or maximum amount exceeded.\n",
      "Withdrawal limit exceeded or maximum amount exceeded.\n"
     ]
    }
   ],
   "source": [
    "account1.withdraw(100)\n",
    "account1.withdraw(100)\n",
    "account1.withdraw(100)\n",
    "account1.withdraw(100)"
   ]
  },
  {
   "cell_type": "markdown",
   "metadata": {},
   "source": [
    "## Try inserting a negative withdraw value"
   ]
  },
  {
   "cell_type": "code",
   "execution_count": 16,
   "metadata": {},
   "outputs": [
    {
     "name": "stdout",
     "output_type": "stream",
     "text": [
      "Invalid amount. Please enter a positive value.\n",
      "Invalid amount. Please enter a positive value.\n"
     ]
    }
   ],
   "source": [
    "account1.withdraw(-100)\n",
    "account1.deposit(-100)"
   ]
  },
  {
   "cell_type": "code",
   "execution_count": 4,
   "metadata": {},
   "outputs": [
    {
     "data": {
      "text/plain": [
       "'O preço final do pedido é R$ 30.0. Seu troco é R$ 10.0'"
      ]
     },
     "execution_count": 4,
     "metadata": {},
     "output_type": "execute_result"
    }
   ],
   "source": [
    "valorHamburguer = 10.00 # valor unitario do hambuguer\n",
    "quantidadeHamburguer = int(2) # quantidade de hambúrgueres que o usuário deseja.\n",
    "valorBebida = float(5.00)\n",
    "quantidadeBebida = int(2)\n",
    "valorPago = float(40.00)\n",
    "\n",
    "#TODO: Calcular o preço final do pedido (total dos hambúrgueres + total das bebidas).\n",
    "\n",
    "#TODO: Calcular o troco do pedido, considerando o preço final e o valor pago pelo usuário.\n",
    "\n",
    "#TODO: Imprimir a saída no formato especificado neste desafio.\n",
    "\n",
    "def caixa(val_hamburguer, qtde_hamburguer, val_bebida, qtde_bebida, val_pago):\n",
    "  val_total_hamburguer = val_hamburguer * qtde_hamburguer\n",
    "  val_total_bebida = val_bebida * qtde_bebida\n",
    "  val_conta = val_total_hamburguer + val_total_bebida\n",
    "  \n",
    "  troco = val_pago - val_conta\n",
    "  \n",
    "  return f'O preço final do pedido é R$ {val_conta}. Seu troco é R$ {troco}'\n",
    "  \n",
    "  \n",
    "caixa(valorHamburguer, \n",
    "      quantidadeHamburguer,\n",
    "      valorBebida,\n",
    "      quantidadeBebida,\n",
    "      valorPago)\n",
    "      \n",
    "  "
   ]
  }
 ],
 "metadata": {
  "kernelspec": {
   "display_name": "Python 3",
   "language": "python",
   "name": "python3"
  },
  "language_info": {
   "codemirror_mode": {
    "name": "ipython",
    "version": 3
   },
   "file_extension": ".py",
   "mimetype": "text/x-python",
   "name": "python",
   "nbconvert_exporter": "python",
   "pygments_lexer": "ipython3",
   "version": "3.10.8"
  },
  "orig_nbformat": 4
 },
 "nbformat": 4,
 "nbformat_minor": 2
}
