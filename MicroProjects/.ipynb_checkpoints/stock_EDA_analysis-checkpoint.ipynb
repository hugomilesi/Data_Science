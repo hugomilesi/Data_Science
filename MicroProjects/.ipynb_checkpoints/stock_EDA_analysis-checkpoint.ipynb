{
 "cells": [
  {
   "cell_type": "markdown",
   "id": "e4c91082-4188-4d3b-8672-84eb81c0c762",
   "metadata": {
    "tags": []
   },
   "source": [
    "# <p style= 'background-color:crimson;font-size:150%;text-align:center;border-radius:5px;color:white'>Stock Market Analysis</p>\n",
    "\n",
    "\n",
    "## Data\n",
    "\n",
    "<p>In this Project, i will analyse data of some Brazillian stocks in different market segments. The data will be extracted using <b>pandas datareader</b>. <br>We will get information for the following stocks:<br></p>\n",
    "<ul>\n",
    "    <li><b>PETROBRAS(PETR4.SA):</b> Energy segment focusing on exploring, refining and generating petroleum an its derivatives.</li>\n",
    "    <li><b>Vale S.A(VALE3.SA):</b> In raw material segment, Vale is one of the biggest mining company of the world.</li>\n",
    "    <li><b>Magazine Luiza(MGLU3.SA):</b> Big company inside retail segment.</li>\n",
    "    <li><b>AMBEV(ABEV3.SA):</b> In the consumption segment, it's the biggest ale manifacturer company of the world .</li>\n",
    "</ul>\n",
    "\n",
    "\n",
    "# <p style = 'background-color:purple;border-radius:5px; text-align:center'>Contents</p>\n",
    "* [1. What's the change in stock's price over time?](#1)\n",
    "* [2. How a moving average will behave on these charts?](#2)\n",
    "    * [2.1. Plotting Moving Averages in all stocks for better analysis](#2.1)\n",
    "* [3. Why volume is important?](#3)\n",
    "* [4. What was the daily return average of a stock?](#4)\n",
    "    * [4.1. Checking Correlations between stocks returns](#4.1)\n",
    "* [5. How can we predit the price of a stock?](#5)\n",
    "    * [5.1. Data Pre-processing](#5.1)\n",
    "    * [5.2. Building The Model](#5.2)\n",
    "    * [5.2. Final Results](#5.3)"
   ]
  },
  {
   "cell_type": "code",
   "execution_count": 23,
   "id": "43804532-fb98-437d-b29c-9dec77754a98",
   "metadata": {},
   "outputs": [],
   "source": [
    "#Data manipulation\n",
    "import pandas as pd\n",
    "import numpy as np\n",
    "import time\n",
    "\n",
    "#Visual Libraries\n",
    "import matplotlib.pyplot as plt\n",
    "import seaborn as sns\n",
    "from matplotlib import gridspec\n",
    "sns.set_style('whitegrid')\n",
    "plt.style.use(\"fivethirtyeight\")\n",
    "%matplotlib inline\n",
    "\n",
    "# time series\n",
    "from statsmodels.tsa.seasonal import seasonal_decompose\n",
    "# ML libraries\n",
    "from statsmodels.graphics.tsaplots import plot_acf, plot_pacf\n",
    "from statsmodels.tsa.arima_model import ARMA\n",
    "from sklearn.preprocessing import MinMaxScaler # for scaling\n",
    "from keras.models import Sequential\n",
    "from keras.layers import Dense, LSTM\n",
    "\n",
    "\n",
    "#financial analysis\n",
    "import yfinance as yf\n",
    "import pandas_datareader as web\n",
    "from datetime import datetime\n",
    "import warnings\n",
    "warnings.filterwarnings('ignore')"
   ]
  },
  {
   "cell_type": "code",
   "execution_count": 24,
   "id": "b7e23ef2-b8e1-444a-b208-9050c7c299dd",
   "metadata": {},
   "outputs": [],
   "source": [
    "#data from 2 years back\n",
    "start = '2020-1-1'\n",
    "end = '2022-1-1'\n",
    "#end = datetime(2022, 1, 1)\n",
    "#start = datetime(2020, 1, 1)"
   ]
  },
  {
   "cell_type": "code",
   "execution_count": 25,
   "id": "b3b87f60-72f3-4a3d-89c3-f229dd111719",
   "metadata": {},
   "outputs": [
    {
     "ename": "TypeError",
     "evalue": "string indices must be integers",
     "output_type": "error",
     "traceback": [
      "\u001b[1;31m---------------------------------------------------------------------------\u001b[0m",
      "\u001b[1;31mTypeError\u001b[0m                                 Traceback (most recent call last)",
      "Cell \u001b[1;32mIn [25], line 2\u001b[0m\n\u001b[0;32m      1\u001b[0m \u001b[38;5;66;03m#getting stock data\u001b[39;00m\n\u001b[1;32m----> 2\u001b[0m petr \u001b[38;5;241m=\u001b[39m \u001b[43mweb\u001b[49m\u001b[38;5;241;43m.\u001b[39;49m\u001b[43mDataReader\u001b[49m\u001b[43m(\u001b[49m\u001b[38;5;124;43m'\u001b[39;49m\u001b[38;5;124;43mPETR4.SA\u001b[39;49m\u001b[38;5;124;43m'\u001b[39;49m\u001b[43m,\u001b[49m\u001b[43m \u001b[49m\u001b[38;5;124;43m'\u001b[39;49m\u001b[38;5;124;43myahoo\u001b[39;49m\u001b[38;5;124;43m'\u001b[39;49m\u001b[43m,\u001b[49m\u001b[43m \u001b[49m\u001b[43mstart\u001b[49m\u001b[43m,\u001b[49m\u001b[43m \u001b[49m\u001b[43mend\u001b[49m\u001b[43m)\u001b[49m\n\u001b[0;32m      3\u001b[0m vale \u001b[38;5;241m=\u001b[39m web\u001b[38;5;241m.\u001b[39mDataReader(\u001b[38;5;124m'\u001b[39m\u001b[38;5;124mVALE3.SA\u001b[39m\u001b[38;5;124m'\u001b[39m, \u001b[38;5;124m'\u001b[39m\u001b[38;5;124myahoo\u001b[39m\u001b[38;5;124m'\u001b[39m, start, end)\n\u001b[0;32m      4\u001b[0m mglu \u001b[38;5;241m=\u001b[39m web\u001b[38;5;241m.\u001b[39mDataReader(\u001b[38;5;124m'\u001b[39m\u001b[38;5;124mMGLU3.SA\u001b[39m\u001b[38;5;124m'\u001b[39m, \u001b[38;5;124m'\u001b[39m\u001b[38;5;124myahoo\u001b[39m\u001b[38;5;124m'\u001b[39m, start, end)\n",
      "File \u001b[1;32m~\\AppData\\Local\\Programs\\Python\\Python310\\lib\\site-packages\\pandas\\util\\_decorators.py:211\u001b[0m, in \u001b[0;36mdeprecate_kwarg.<locals>._deprecate_kwarg.<locals>.wrapper\u001b[1;34m(*args, **kwargs)\u001b[0m\n\u001b[0;32m    209\u001b[0m     \u001b[38;5;28;01melse\u001b[39;00m:\n\u001b[0;32m    210\u001b[0m         kwargs[new_arg_name] \u001b[38;5;241m=\u001b[39m new_arg_value\n\u001b[1;32m--> 211\u001b[0m \u001b[38;5;28;01mreturn\u001b[39;00m func(\u001b[38;5;241m*\u001b[39margs, \u001b[38;5;241m*\u001b[39m\u001b[38;5;241m*\u001b[39mkwargs)\n",
      "File \u001b[1;32m~\\AppData\\Local\\Programs\\Python\\Python310\\lib\\site-packages\\pandas_datareader\\data.py:379\u001b[0m, in \u001b[0;36mDataReader\u001b[1;34m(name, data_source, start, end, retry_count, pause, session, api_key)\u001b[0m\n\u001b[0;32m    367\u001b[0m     \u001b[38;5;28;01mraise\u001b[39;00m \u001b[38;5;167;01mNotImplementedError\u001b[39;00m(msg)\n\u001b[0;32m    369\u001b[0m \u001b[38;5;28;01mif\u001b[39;00m data_source \u001b[38;5;241m==\u001b[39m \u001b[38;5;124m\"\u001b[39m\u001b[38;5;124myahoo\u001b[39m\u001b[38;5;124m\"\u001b[39m:\n\u001b[0;32m    370\u001b[0m     \u001b[38;5;28;01mreturn\u001b[39;00m \u001b[43mYahooDailyReader\u001b[49m\u001b[43m(\u001b[49m\n\u001b[0;32m    371\u001b[0m \u001b[43m        \u001b[49m\u001b[43msymbols\u001b[49m\u001b[38;5;241;43m=\u001b[39;49m\u001b[43mname\u001b[49m\u001b[43m,\u001b[49m\n\u001b[0;32m    372\u001b[0m \u001b[43m        \u001b[49m\u001b[43mstart\u001b[49m\u001b[38;5;241;43m=\u001b[39;49m\u001b[43mstart\u001b[49m\u001b[43m,\u001b[49m\n\u001b[0;32m    373\u001b[0m \u001b[43m        \u001b[49m\u001b[43mend\u001b[49m\u001b[38;5;241;43m=\u001b[39;49m\u001b[43mend\u001b[49m\u001b[43m,\u001b[49m\n\u001b[0;32m    374\u001b[0m \u001b[43m        \u001b[49m\u001b[43madjust_price\u001b[49m\u001b[38;5;241;43m=\u001b[39;49m\u001b[38;5;28;43;01mFalse\u001b[39;49;00m\u001b[43m,\u001b[49m\n\u001b[0;32m    375\u001b[0m \u001b[43m        \u001b[49m\u001b[43mchunksize\u001b[49m\u001b[38;5;241;43m=\u001b[39;49m\u001b[38;5;241;43m25\u001b[39;49m\u001b[43m,\u001b[49m\n\u001b[0;32m    376\u001b[0m \u001b[43m        \u001b[49m\u001b[43mretry_count\u001b[49m\u001b[38;5;241;43m=\u001b[39;49m\u001b[43mretry_count\u001b[49m\u001b[43m,\u001b[49m\n\u001b[0;32m    377\u001b[0m \u001b[43m        \u001b[49m\u001b[43mpause\u001b[49m\u001b[38;5;241;43m=\u001b[39;49m\u001b[43mpause\u001b[49m\u001b[43m,\u001b[49m\n\u001b[0;32m    378\u001b[0m \u001b[43m        \u001b[49m\u001b[43msession\u001b[49m\u001b[38;5;241;43m=\u001b[39;49m\u001b[43msession\u001b[49m\u001b[43m,\u001b[49m\n\u001b[1;32m--> 379\u001b[0m \u001b[43m    \u001b[49m\u001b[43m)\u001b[49m\u001b[38;5;241;43m.\u001b[39;49m\u001b[43mread\u001b[49m\u001b[43m(\u001b[49m\u001b[43m)\u001b[49m\n\u001b[0;32m    381\u001b[0m \u001b[38;5;28;01melif\u001b[39;00m data_source \u001b[38;5;241m==\u001b[39m \u001b[38;5;124m\"\u001b[39m\u001b[38;5;124miex\u001b[39m\u001b[38;5;124m\"\u001b[39m:\n\u001b[0;32m    382\u001b[0m     \u001b[38;5;28;01mreturn\u001b[39;00m IEXDailyReader(\n\u001b[0;32m    383\u001b[0m         symbols\u001b[38;5;241m=\u001b[39mname,\n\u001b[0;32m    384\u001b[0m         start\u001b[38;5;241m=\u001b[39mstart,\n\u001b[1;32m   (...)\u001b[0m\n\u001b[0;32m    390\u001b[0m         session\u001b[38;5;241m=\u001b[39msession,\n\u001b[0;32m    391\u001b[0m     )\u001b[38;5;241m.\u001b[39mread()\n",
      "File \u001b[1;32m~\\AppData\\Local\\Programs\\Python\\Python310\\lib\\site-packages\\pandas_datareader\\base.py:253\u001b[0m, in \u001b[0;36m_DailyBaseReader.read\u001b[1;34m(self)\u001b[0m\n\u001b[0;32m    251\u001b[0m \u001b[38;5;66;03m# If a single symbol, (e.g., 'GOOG')\u001b[39;00m\n\u001b[0;32m    252\u001b[0m \u001b[38;5;28;01mif\u001b[39;00m \u001b[38;5;28misinstance\u001b[39m(\u001b[38;5;28mself\u001b[39m\u001b[38;5;241m.\u001b[39msymbols, (string_types, \u001b[38;5;28mint\u001b[39m)):\n\u001b[1;32m--> 253\u001b[0m     df \u001b[38;5;241m=\u001b[39m \u001b[38;5;28;43mself\u001b[39;49m\u001b[38;5;241;43m.\u001b[39;49m\u001b[43m_read_one_data\u001b[49m\u001b[43m(\u001b[49m\u001b[38;5;28;43mself\u001b[39;49m\u001b[38;5;241;43m.\u001b[39;49m\u001b[43murl\u001b[49m\u001b[43m,\u001b[49m\u001b[43m \u001b[49m\u001b[43mparams\u001b[49m\u001b[38;5;241;43m=\u001b[39;49m\u001b[38;5;28;43mself\u001b[39;49m\u001b[38;5;241;43m.\u001b[39;49m\u001b[43m_get_params\u001b[49m\u001b[43m(\u001b[49m\u001b[38;5;28;43mself\u001b[39;49m\u001b[38;5;241;43m.\u001b[39;49m\u001b[43msymbols\u001b[49m\u001b[43m)\u001b[49m\u001b[43m)\u001b[49m\n\u001b[0;32m    254\u001b[0m \u001b[38;5;66;03m# Or multiple symbols, (e.g., ['GOOG', 'AAPL', 'MSFT'])\u001b[39;00m\n\u001b[0;32m    255\u001b[0m \u001b[38;5;28;01melif\u001b[39;00m \u001b[38;5;28misinstance\u001b[39m(\u001b[38;5;28mself\u001b[39m\u001b[38;5;241m.\u001b[39msymbols, DataFrame):\n",
      "File \u001b[1;32m~\\AppData\\Local\\Programs\\Python\\Python310\\lib\\site-packages\\pandas_datareader\\yahoo\\daily.py:153\u001b[0m, in \u001b[0;36mYahooDailyReader._read_one_data\u001b[1;34m(self, url, params)\u001b[0m\n\u001b[0;32m    151\u001b[0m \u001b[38;5;28;01mtry\u001b[39;00m:\n\u001b[0;32m    152\u001b[0m     j \u001b[38;5;241m=\u001b[39m json\u001b[38;5;241m.\u001b[39mloads(re\u001b[38;5;241m.\u001b[39msearch(ptrn, resp\u001b[38;5;241m.\u001b[39mtext, re\u001b[38;5;241m.\u001b[39mDOTALL)\u001b[38;5;241m.\u001b[39mgroup(\u001b[38;5;241m1\u001b[39m))\n\u001b[1;32m--> 153\u001b[0m     data \u001b[38;5;241m=\u001b[39m \u001b[43mj\u001b[49m\u001b[43m[\u001b[49m\u001b[38;5;124;43m\"\u001b[39;49m\u001b[38;5;124;43mcontext\u001b[39;49m\u001b[38;5;124;43m\"\u001b[39;49m\u001b[43m]\u001b[49m\u001b[43m[\u001b[49m\u001b[38;5;124;43m\"\u001b[39;49m\u001b[38;5;124;43mdispatcher\u001b[39;49m\u001b[38;5;124;43m\"\u001b[39;49m\u001b[43m]\u001b[49m\u001b[43m[\u001b[49m\u001b[38;5;124;43m\"\u001b[39;49m\u001b[38;5;124;43mstores\u001b[39;49m\u001b[38;5;124;43m\"\u001b[39;49m\u001b[43m]\u001b[49m\u001b[43m[\u001b[49m\u001b[38;5;124;43m\"\u001b[39;49m\u001b[38;5;124;43mHistoricalPriceStore\u001b[39;49m\u001b[38;5;124;43m\"\u001b[39;49m\u001b[43m]\u001b[49m\n\u001b[0;32m    154\u001b[0m \u001b[38;5;28;01mexcept\u001b[39;00m \u001b[38;5;167;01mKeyError\u001b[39;00m:\n\u001b[0;32m    155\u001b[0m     msg \u001b[38;5;241m=\u001b[39m \u001b[38;5;124m\"\u001b[39m\u001b[38;5;124mNo data fetched for symbol \u001b[39m\u001b[38;5;132;01m{}\u001b[39;00m\u001b[38;5;124m using \u001b[39m\u001b[38;5;132;01m{}\u001b[39;00m\u001b[38;5;124m\"\u001b[39m\n",
      "\u001b[1;31mTypeError\u001b[0m: string indices must be integers"
     ]
    }
   ],
   "source": [
    "#getting stock data\n",
    "petr = web.DataReader('PETR4.SA', 'yahoo', start, end)\n",
    "vale = web.DataReader('VALE3.SA', 'yahoo', start, end)\n",
    "mglu = web.DataReader('MGLU3.SA', 'yahoo', start, end)\n",
    "abev = web.DataReader('ABEV3.SA', 'yahoo', start, end)\n",
    "end_timer = time.time() - start_timer\n",
    "\n",
    "print('Done!')"
   ]
  },
  {
   "cell_type": "markdown",
   "id": "c39b4e5c-7b40-4fbd-956b-999023ce18e6",
   "metadata": {},
   "source": [
    "---\n",
    "<a id = 1></a>\n",
    "# <p style = 'background:crimson;border-radius:5px;text-align:center'>What's the change in stock's price over time?</p>\n"
   ]
  },
  {
   "cell_type": "code",
   "execution_count": null,
   "id": "eef7b7fc-c951-41b2-9528-11c1d5163e0b",
   "metadata": {},
   "outputs": [],
   "source": [
    "rows = 2\n",
    "cols = 2\n",
    "fig, ax = plt.subplots(rows, cols, figsize = (20,10))\n",
    "fig.tight_layout(pad = 3.0)\n",
    "fig.add_subplot(221)\n",
    "petr['Adj Close'].plot(color = 'crimson', legend = True)\n",
    "plt.title('PETR4.SA', fontsize = '15', color = 'crimson')\n",
    "#plt.axis('off')\n",
    "\n",
    "fig.add_subplot(222)\n",
    "vale['Adj Close'].plot(color = 'blue',legend = True)\n",
    "plt.title('VALE3.SA', fontsize = '15', color = 'blue')\n",
    "plt.axis('off')\n",
    "\n",
    "fig.add_subplot(223)\n",
    "mglu['Adj Close'].plot(color = 'purple', legend = True)\n",
    "plt.title('MGLU3.SA', fontsize = '15', color = 'purple')\n",
    "plt.axis('off')\n",
    "\n",
    "fig.add_subplot(224)\n",
    "abev['Adj Close'].plot(color = 'green', legend = True)\n",
    "plt.title('ABEV3.SA', fontsize = '15', color = 'green')\n",
    "plt.axis('off')\n",
    "\n",
    "plt.show()   "
   ]
  },
  {
   "cell_type": "code",
   "execution_count": null,
   "id": "261e8254-a5bf-4bf4-80f5-e17d3240fce0",
   "metadata": {},
   "outputs": [],
   "source": [
    "vale.describe().T"
   ]
  },
  {
   "cell_type": "markdown",
   "id": "0b2e12b0-b858-4f78-afe8-644b3abe392f",
   "metadata": {},
   "source": [
    "<a id = 2></a>\n",
    "# <p style = 'background:crimson;border-radius:5px;text-align:center'>How a moving average will behave on these charts?</p>\n",
    "- Let's find out by plotting a slow(100 periods), medium(50 periods) and a quick(9 periods) moving average to see the difference."
   ]
  },
  {
   "cell_type": "code",
   "execution_count": null,
   "id": "7ac0b801-d240-49f3-a231-f43515a61308",
   "metadata": {},
   "outputs": [],
   "source": [
    "#creating moving averages\n",
    "stock_list = [petr, vale, mglu, abev]\n",
    "for stock in stock_list:\n",
    "    stock['ma_9'] = stock['Adj Close'].rolling(window = 9, center = False).mean()\n",
    "    stock['ma_50'] = stock['Adj Close'].rolling(window = 50, center = False).mean()\n",
    "    stock['ma_100'] = stock['Adj Close'].rolling(window = 100, center = False).mean()\n",
    "\n",
    "\n",
    "#plottting\n",
    "#slicing the data to fit the average better\n",
    "#price\n",
    "vale.iloc[100:]['Adj Close'].plot(figsize = (28, 8), linewidth = 3)\n",
    "\n",
    "#averages\n",
    "vale.iloc[100:]['ma_9'].plot(figsize = (28, 8), linestyle = 'dashed')\n",
    "vale.iloc[100:]['ma_50'].plot(figsize = (28, 8), linestyle = 'dashed')\n",
    "vale.iloc[100:]['ma_100'].plot(figsize = (28, 8), linestyle = 'dashed')\n",
    "plt.title('Moving Averages on VALE3.SA', fontsize = 20, color = 'dodgerblue')\n",
    "plt.legend(loc = 'upper left', fontsize = 15)\n",
    "plt.axis('off')\n",
    "plt.show()\n"
   ]
  },
  {
   "cell_type": "markdown",
   "id": "351ee005-a1d9-4e20-a202-2772dd3c2658",
   "metadata": {},
   "source": [
    "---\n",
    "<a id = 2.1></a>\n",
    "## Plotting Moving Averages in all stocks for better analysis "
   ]
  },
  {
   "cell_type": "code",
   "execution_count": null,
   "id": "9d35df19-38fb-47d6-9f26-bc3fe7237346",
   "metadata": {},
   "outputs": [],
   "source": [
    "#adding moving averages to all stocks\n",
    "stock_list = [petr, vale, mglu, abev]\n",
    "for stock in stock_list:\n",
    "    stock['ma_9'] = stock['Adj Close'].rolling(window = 9, center = False).mean()\n",
    "    stock['ma_50'] = stock['Adj Close'].rolling(window = 50, center = False).mean()\n",
    "    stock['ma_100'] = stock['Adj Close'].rolling(window = 100, center = False).mean()\n",
    "mglu.head()\n",
    "\n",
    "\n",
    "rows = 2\n",
    "cols = 2\n",
    "fig = plt.figure(figsize = (20, 10))\n",
    "fig.tight_layout(pad = - 1.0)\n",
    "\n",
    "#plotting all stocks\n",
    "stock_names = [('PETR4.SA', 'crimson'), ('VALE3.SA', 'blue'), ('MGLU3.SA', 'purple'), ('ABEV3.SA', 'green')]\n",
    "for i in range(1, 5):\n",
    "    ax = fig.add_subplot(2,2,i)\n",
    "    #ax.plot(stock_list[i - 1].iloc[100:][['Adj Close', 'ma_9', 'ma_50', 'ma_100']])\n",
    "    ax.plot(stock_list[i-1].iloc[100:]['Adj Close'], linewidth = 2.5, label = 'Price')\n",
    "    ax.legend(loc=\"upper left\")\n",
    "    plt.title(stock_names[i - 1][0], color = stock_names[i - 1][1], fontsize = 20)\n",
    "    \n",
    "    #moving averages\n",
    "    ax.plot(stock_list[i-1].iloc[100:][['ma_9']], label = 'ma_9', linestyle = 'dashed', lw = '1')\n",
    "    ax.legend(loc = 'upper left')\n",
    "    \n",
    "    ax.plot(stock_list[i-1].iloc[100:][['ma_50']], label = 'ma_50', linestyle = 'dashed', lw = '1')\n",
    "    ax.legend(loc = 'upper left')\n",
    "    \n",
    "    ax.plot(stock_list[i-1].iloc[100:][['ma_100']], label = 'ma_100', linestyle = 'dashed', lw = '1')\n",
    "    ax.legend(loc = 'upper left')\n",
    "    "
   ]
  },
  {
   "cell_type": "markdown",
   "id": "fc99e48b-da1c-4b5f-9b11-0e4cc5cb2a42",
   "metadata": {},
   "source": [
    "Plotting different moving averages allow us to take better reading of the price\n",
    "\n",
    "<ul style = 'border: 1px dashed gray; border-radius: 5px'>\n",
    "    <li>The quick moving average(ma_9) tracks a faster trend and moves closer to the price. A quicker trend is more likely to be volatile, with quick periods of up and down trends.\n",
    "    </li>\n",
    "    <li>The moving average of 50 periods changes directions slower being more steady. It is used to track longer trends.     </li>\n",
    "    <li>The slow moving average(ma_100) is used to check the overall trend. Staying further from the price and having low volatility, we can say if the price is under this average we get a strong bearish trend and a strong bullish if it is above.\n",
    "    </li>\n",
    "</ul>"
   ]
  },
  {
   "cell_type": "markdown",
   "id": "c0e155ef-b8f3-4f30-b5f7-66d296d693e9",
   "metadata": {},
   "source": [
    "<a id = 3></a>\n",
    "# <p style = 'background:crimson;border-radius:5px;text-align:center'>Why volume is important?</p>"
   ]
  },
  {
   "cell_type": "markdown",
   "id": "b7a66079-1a15-4bc1-af46-4b83694cb9c5",
   "metadata": {},
   "source": [
    "<ul style = 'border:1px dashed gray; border-radius:5px'>\n",
    "    <li>Volume measures the number of shares traded in a stock or contracts traded in futures or options.</li>\n",
    "    <li>Can indicate market strength, as rising markets on increasing volume are typically viewed as strong and healthy.     </li>\n",
    "    <li>When prices fall on increasing volume, the trend is gathering strength to the downside.</li>\n",
    "    <li>When prices reach new highs(or lows) with decreasing volume, watch out, a reversal might happen soon</li>\n",
    "</ul>"
   ]
  },
  {
   "cell_type": "code",
   "execution_count": null,
   "id": "cd1cef29-2661-4bdf-a762-cd03864c059a",
   "metadata": {},
   "outputs": [],
   "source": [
    "# plot it\n",
    "fig = plt.figure(figsize=(11,7)) \n",
    "gs = gridspec.GridSpec(2, 1, height_ratios=[4, 1]) \n",
    "\n",
    "#stock price\n",
    "ax0 = plt.subplot(gs[0])\n",
    "ax0.set_yticklabels([])\n",
    "ax0.set_xticklabels([])\n",
    "petr['Adj Close'].plot(legend = True, linewidth=2, color = 'green')\n",
    "plt.title('PETR4.SA', fontsize = 20, color = 'green')\n",
    "\n",
    "#volume\n",
    "ax1 = plt.subplot(gs[1])\n",
    "plt.axis('off')\n",
    "petr['Volume'].plot.bar(x = vale.index.day, rot = 0, color = 'dodgerblue', stacked = False, width=1)\n",
    "plt.title('Volume at Price', fontsize = 20, color= 'dodgerblue')\n",
    "plt.tight_layout()"
   ]
  },
  {
   "cell_type": "markdown",
   "id": "4e31f619-457f-4162-b921-10e19ccc552f",
   "metadata": {
    "tags": []
   },
   "source": [
    "---\n",
    "<a id = 4></a>\n",
    "# <p style = 'background:crimson; border-radius:5px;text-align:center'>What was the daily return average of a stock.</p>"
   ]
  },
  {
   "cell_type": "markdown",
   "id": "c99c928c-47b9-469b-aa55-03ccfaf35c08",
   "metadata": {},
   "source": [
    "The daily return column can be created by using the percentage change over the adjusted closing price"
   ]
  },
  {
   "cell_type": "code",
   "execution_count": null,
   "id": "01e7e35b-6fb0-4f00-8c36-ac3ec4d58a3a",
   "metadata": {},
   "outputs": [],
   "source": [
    "vale['Daily Return'] = vale['Adj Close'].pct_change()"
   ]
  },
  {
   "cell_type": "code",
   "execution_count": null,
   "id": "179b6024-3041-4eb1-bc8b-f9c4c37db115",
   "metadata": {},
   "outputs": [],
   "source": [
    "vale['Daily Return'].plot(figsize =(15, 5), legend=True, linestyle = '--', marker = 'o', color = 'dodgerblue')\n",
    "plt.title('VALE3.SA Daily Returns', fontsize = 20)\n",
    "plt.show()"
   ]
  },
  {
   "cell_type": "code",
   "execution_count": null,
   "id": "c59f43c9-9150-4fc2-bba5-61c00416c9d3",
   "metadata": {},
   "outputs": [],
   "source": [
    "sns.histplot(x=vale['Daily Return'].dropna(),bins=100,color='crimson')\n",
    "plt.xlim(-0.10, 0.10)\n",
    "plt.show()"
   ]
  },
  {
   "cell_type": "markdown",
   "id": "f664487b-e886-47a5-8fc4-f04b3fe23d0b",
   "metadata": {},
   "source": [
    "<span style = 'font-size:110%'>Positive daily returns seem to be more frequent for Vale.</span>"
   ]
  },
  {
   "cell_type": "markdown",
   "id": "7ce571c5-a156-492d-92a9-ea9c5eb77feb",
   "metadata": {},
   "source": [
    "---\n",
    "<a id = 4.1></a>\n",
    "## <p>Checking Correlations between stock returns.</p>"
   ]
  },
  {
   "cell_type": "code",
   "execution_count": null,
   "id": "737bd9bb-b329-437d-9249-e1727e439931",
   "metadata": {},
   "outputs": [],
   "source": [
    "#Reading just the 'Adj Close' column from stocks this time\n",
    "stock_list = ['PETR4.SA', 'VALE3.SA', 'MGLU3.SA', 'ABEV3.SA']\n",
    "close_df = web.DataReader(stock_list,'yahoo',start,end)['Adj Close']"
   ]
  },
  {
   "cell_type": "code",
   "execution_count": null,
   "id": "7ef94ff2-5ee0-41c2-a918-5d2151e45d3f",
   "metadata": {},
   "outputs": [],
   "source": [
    "close_df.tail()"
   ]
  },
  {
   "cell_type": "code",
   "execution_count": null,
   "id": "d1963aba-bd51-47c2-943f-54ff9d7dcc7e",
   "metadata": {},
   "outputs": [],
   "source": [
    "returns_df = close_df.pct_change()\n",
    "returns_df.tail()"
   ]
  },
  {
   "cell_type": "markdown",
   "id": "e3ac743d-7425-4082-b2fa-fe97c0c8f07f",
   "metadata": {},
   "source": [
    "---\n",
    "### Let's create a scatterpltlot to visualize any correlations between the stocks we're analyzing.\n",
    "- First we'll visualize a __jointplot__ for the relationshop between the daily return of a stock to itself."
   ]
  },
  {
   "cell_type": "code",
   "execution_count": null,
   "id": "ae92001f-c59d-436e-95cf-433fc2533a41",
   "metadata": {},
   "outputs": [],
   "source": [
    "sns.jointplot('VALE3.SA', 'VALE3.SA', returns_df, kind = 'reg', color = 'orangered')"
   ]
  },
  {
   "cell_type": "markdown",
   "id": "5a42de12-9126-4171-ad0e-ac51ed315ad9",
   "metadata": {},
   "source": [
    "As expected, the relationship is perfectly linear because we're trying to correlate something with itself. Now, let's check out the relationship between VALE3.SA and PETR4.SA daily returns.\n",
    "\n",
    "### How jointplot works\n",
    "- A joint plot provides a concise way to understand both the relationship between two variables aswell as individual distrubution o each variable.\n",
    "- The middle figure stands for the relationship plot. It shows how y and x are related.\n",
    "- The histogram above shows how the **X** distrubution looks like.\n",
    "- The histogram on the right shows how the **Y** distrubution looks like.\n",
    "- The upper and right plots together gives us a sense of what the marginal distribution look like from both x and y. \n",
    "---"
   ]
  },
  {
   "cell_type": "code",
   "execution_count": null,
   "id": "efaffd7c-c3f8-4abb-ba4b-99bd0dd1f3f6",
   "metadata": {},
   "outputs": [],
   "source": [
    "sns.jointplot('VALE3.SA', 'PETR4.SA', returns_df, kind = 'reg', color = 'dodgerblue')"
   ]
  },
  {
   "cell_type": "code",
   "execution_count": null,
   "id": "82748c19-a687-4f01-ae7a-033028e70521",
   "metadata": {},
   "outputs": [],
   "source": [
    "sns.pairplot(returns_df.dropna(), kind = 'reg')"
   ]
  },
  {
   "cell_type": "markdown",
   "id": "001bd4c9-eb8c-48a6-a643-299df6880b9a",
   "metadata": {},
   "source": [
    "### How pairplot works\n",
    "- Pairplot helps to detect correlations between all the columns of the dataset.\n",
    "- It works like a grid, plotting the X-axis against Y-axis creating multiple plots.\n",
    "- Since the dataset we're plotting has 4 measurements, it creates a 4 x 4 grid plot."
   ]
  },
  {
   "cell_type": "markdown",
   "id": "a6511c13-a1c2-4340-9999-fd74f126ea90",
   "metadata": {},
   "source": [
    "<a id  = 5></a>\n",
    "# <div style = 'background:crimson;border-radius:5px;text-align:center'>How can we predit the price of a stock?</div>"
   ]
  },
  {
   "cell_type": "markdown",
   "id": "8c9eb61c-9461-4184-be69-5518078f3d60",
   "metadata": {},
   "source": [
    "<ul style = 'border:1px dashed gray; border-radius:5px'>\n",
    "    <li>There are many models out there to make predictions. This time i'll use <strong>Long Short Term Memory(LSTM)</strong>.</li>\n",
    "    <li>LTSM is a type of recurrent neural network, capable of learning order dependence in sequence prediction problems.</li>\n",
    "    <li>This is a behavior required in complex problem domains like machine translation, speech recognition, and more.</li>\n",
    "    <li>When prices reach new highs(or lows) with decreasing volume, watch out, a reversal might happen soon</li>\n",
    "</ul>"
   ]
  },
  {
   "cell_type": "code",
   "execution_count": null,
   "id": "d7fa3b0f-43a4-4919-9b72-423f25f8ca2c",
   "metadata": {},
   "outputs": [],
   "source": [
    "# Using Petrobras stock as an example\n",
    "df = web.DataReader('PETR4.SA', data_source = 'yahoo', start = '2012-01-01', end = datetime.now())"
   ]
  },
  {
   "cell_type": "code",
   "execution_count": null,
   "id": "7bc68bee-8c6a-4e68-8646-1b30d173e832",
   "metadata": {},
   "outputs": [],
   "source": [
    "df['Close'].plot(figsize = (16, 5))\n",
    "plt.title('Closing Price for Petrobras', fontsize = 25)\n",
    "plt.show()"
   ]
  },
  {
   "cell_type": "markdown",
   "id": "d2f4d890-35f4-4c69-baf9-abe1237093c0",
   "metadata": {},
   "source": [
    "<a id = 5.1 ></a>\n",
    "## <p style = 'text-align:center'>Data Pre-processing</p>\n",
    "- First we need to scale the values for faster and better training.\n",
    "- The data set where the data points or features values have high differences with each other will take more time to understand the data and the accuracy will be lower. "
   ]
  },
  {
   "cell_type": "code",
   "execution_count": null,
   "id": "3a5a74dd-4112-404b-a9a5-4ffd7a5a6988",
   "metadata": {},
   "outputs": [],
   "source": [
    "# storing only the close price\n",
    "close = df.filter(['Close'])\n",
    "\n",
    "# converting the dataframe into numpy arrays\n",
    "close_values = close.values\n",
    "\n",
    "# using 95% of the stock data to train the model\n",
    "training_data_len = int(np.ceil(len(close_values) * .95))\n",
    "\n",
    "training_data_len"
   ]
  },
  {
   "cell_type": "code",
   "execution_count": null,
   "id": "2ae76162-7fa0-4eeb-b750-ca74aa645d46",
   "metadata": {},
   "outputs": [],
   "source": [
    "# Scaling the data first\n",
    "scaler = MinMaxScaler(feature_range = (0,1))\n",
    "scaled_data = scaler.fit_transform(close_values)\n",
    "\n",
    "scaled_data"
   ]
  },
  {
   "cell_type": "markdown",
   "id": "772fab3f-fa02-46e6-a438-5c88b9b4202b",
   "metadata": {},
   "source": [
    "<a id = 5.2></a>\n",
    "## <p style = 'text-align:center'>Building The Model</p>"
   ]
  },
  {
   "cell_type": "code",
   "execution_count": null,
   "id": "f47e4fe8-9dc2-4b2c-8ad8-ad05f428f259",
   "metadata": {},
   "outputs": [],
   "source": [
    "# Create the training data set \n",
    "# Create the scaled training data set\n",
    "train_data = scaled_data[0:int(training_data_len), :]\n",
    "# Split the data into x_train and y_train data sets\n",
    "x_train = []\n",
    "y_train = []\n",
    "\n",
    "for i in range(60, len(train_data)):\n",
    "    x_train.append(train_data[i-60:i, 0])\n",
    "    y_train.append(train_data[i, 0])\n",
    "    if i<= 61:\n",
    "        print(x_train)\n",
    "        print(y_train)\n",
    "        print()\n",
    "        \n",
    "# Convert the x_train and y_train to numpy arrays \n",
    "x_train, y_train = np.array(x_train), np.array(y_train)\n",
    "\n",
    "# Reshape the data\n",
    "x_train = np.reshape(x_train, (x_train.shape[0], x_train.shape[1], 1))\n",
    "# x_train.shape"
   ]
  },
  {
   "cell_type": "code",
   "execution_count": null,
   "id": "b427e559-9bc4-465f-a830-da7cadabc7d3",
   "metadata": {},
   "outputs": [],
   "source": [
    "# Building the LSTM network\n",
    "model = Sequential()\n",
    "model.add(LSTM(128, return_sequences = True, input_shape = (x_train.shape[1], 1)))\n",
    "model.add(LSTM(64, return_sequences = False))\n",
    "model.add(Dense(25))\n",
    "model.add(Dense(1))\n",
    "\n",
    "#compiling the model\n",
    "model.compile(optimizer = 'adam', loss = 'mean_squared_error')\n",
    "\n",
    "#training the model\n",
    "model.fit(x_train, y_train, batch_size = 1, epochs = 1)"
   ]
  },
  {
   "cell_type": "code",
   "execution_count": null,
   "id": "85af8aab-7005-42cf-855b-99683a92aaf3",
   "metadata": {},
   "outputs": [],
   "source": [
    "# Creating the testing dataset\n",
    "test_data = scaled_data[training_data_len - 60 :, : ]\n",
    "x_test = []\n",
    "y_test = close_values[training_data_len: , : ]\n",
    "\n",
    "for i in range(60, len(test_data)):\n",
    "    x_test.append(test_data[i -60: i, 0])\n",
    "    \n",
    "# converting the data into a numpy array\n",
    "x_test = np.array(x_test)\n",
    "\n",
    "# Reshaping the data\n",
    "x_test = np.reshape(x_test, (x_test.shape[0], x_test.shape[1], 1))\n",
    "\n",
    "# get the model's predicted price values\n",
    "predictions = model.predict(x_test)\n",
    "predictions = scaler.inverse_transform(predictions)\n",
    "\n",
    "# gettin the rootmean squared error (RMSE)\n",
    "rmse = np.sqrt(np.mean(((predictions - y_test) ** 2)))\n",
    "rmse"
   ]
  },
  {
   "cell_type": "markdown",
   "id": "e7dd21c0-024e-4985-9b1b-6ab6a42a3fe8",
   "metadata": {},
   "source": [
    "<a id = 5.3></a>\n",
    "## <p style = 'text-align:center'>Final Results</p>"
   ]
  },
  {
   "cell_type": "code",
   "execution_count": null,
   "id": "2433ceb3-df8f-43fc-94dd-07b8b2afacfe",
   "metadata": {},
   "outputs": [],
   "source": [
    "# Plotting the data\n",
    "train = close[:training_data_len]\n",
    "valid = close[training_data_len:]\n",
    "valid['Predictions'] = predictions\n",
    "\n",
    "plt.figure(figsize = (18, 6))\n",
    "plt.title('LSTM Price Prediction')\n",
    "plt.xlabel('Date', fontsize = 18)\n",
    "plt.ylabel('Close Price', fontsize = 18)\n",
    "plt.plot(train['Close'])\n",
    "plt.plot(valid[['Close', 'Predictions']])\n",
    "plt.legend(['Train', 'Val', 'Predictions'], loc = 'lower right')\n",
    "plt.show()"
   ]
  },
  {
   "cell_type": "code",
   "execution_count": null,
   "id": "8a3f50c3-882f-4424-ad4e-3c334611059f",
   "metadata": {},
   "outputs": [],
   "source": [
    "# Showing the valid predicted prices\n",
    "valid"
   ]
  },
  {
   "cell_type": "code",
   "execution_count": null,
   "id": "3062eb5d-3361-43f2-8cdc-5c73cd811d84",
   "metadata": {},
   "outputs": [],
   "source": []
  },
  {
   "cell_type": "code",
   "execution_count": null,
   "id": "e9963177-5f66-4837-8c7c-843a1e6f79d1",
   "metadata": {},
   "outputs": [],
   "source": []
  }
 ],
 "metadata": {
  "kernelspec": {
   "display_name": "Python 3 (ipykernel)",
   "language": "python",
   "name": "python3"
  },
  "language_info": {
   "codemirror_mode": {
    "name": "ipython",
    "version": 3
   },
   "file_extension": ".py",
   "mimetype": "text/x-python",
   "name": "python",
   "nbconvert_exporter": "python",
   "pygments_lexer": "ipython3",
   "version": "3.10.8"
  }
 },
 "nbformat": 4,
 "nbformat_minor": 5
}
